{
 "cells": [
  {
   "cell_type": "code",
   "execution_count": null,
   "id": "96964c1d-9d4e-424a-835a-1d6030d4421d",
   "metadata": {},
   "outputs": [],
   "source": [
    "import pandas as pd\n",
    "import numpy as np\n",
    "import matplotlib.pyplot as plt\n",
    "\n",
    "# Load my combined PSD CSV file the MASTER ONEEEEE\n",
    "combined_csv_path = \"C:/Users/Valer/OneDrive/ODL Hydrophone/Data Sheets/PSD Sheets/ALL_PSDs_combined_ambient.csv\"\n",
    "df = pd.read_csv(combined_csv_path)\n",
    "\n",
    "# Grabbing the frequency values and PSD columns\n",
    "freqs = df[\"Frequency (Hz)\"].to_numpy()\n",
    "psd_columns = [col for col in df.columns if col.startswith(\"PSD_\")] ##extracting column that starts with PSD_ (NICEE function)\n",
    "\n",
    "# Stack PSD values into a 2D matrix YAY: rows = frequency bins, columns = time steps\n",
    "psd_matrix = np.column_stack([df[col].to_numpy() for col in psd_columns])\n",
    "\n",
    "# Generate time axis (5 minutes per recording)\n",
    "time_axis = np.arange(len(psd_columns)) * 5  # in minutes \n",
    "\n",
    "# Create meshgrid for contour plotting\n",
    "X, Y = np.meshgrid(time_axis, freqs)\n",
    "\n",
    "# Plot the contour\n",
    "plt.figure(figsize=(14, 6))\n",
    "contour = plt.contourf(X, Y, psd_matrix, levels=100, cmap=\"viridis\")\n",
    "cbar = plt.colorbar(contour)\n",
    "cbar.set_label(\"PSD (dB re 1 µPa²/Hz)\")\n",
    "\n",
    "# Labels!\n",
    "plt.title(\"Contour Plot of PSD Over Time\")\n",
    "plt.xlabel(\"Time (minutes)\")\n",
    "plt.ylabel(\"Frequency (Hz)\")\n",
    "\n",
    "# If I want to focus on lower frequencies\n",
    "#plt.ylim(0, 8000)\n",
    "\n",
    "plt.tight_layout()\n",
    "plt.show()\n"
   ]
  },
  {
   "cell_type": "code",
   "execution_count": null,
   "id": "62177de3-22a8-4ae5-b097-1f03cb7363a4",
   "metadata": {},
   "outputs": [],
   "source": []
  }
 ],
 "metadata": {
  "kernelspec": {
   "display_name": "Python (spectroODLhydrophone-env)",
   "language": "python",
   "name": "spectroodlhydrophone-env"
  },
  "language_info": {
   "codemirror_mode": {
    "name": "ipython",
    "version": 3
   },
   "file_extension": ".py",
   "mimetype": "text/x-python",
   "name": "python",
   "nbconvert_exporter": "python",
   "pygments_lexer": "ipython3",
   "version": "3.11.0"
  }
 },
 "nbformat": 4,
 "nbformat_minor": 5
}
